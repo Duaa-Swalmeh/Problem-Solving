{
  "nbformat": 4,
  "nbformat_minor": 0,
  "metadata": {
    "colab": {
      "provenance": []
    },
    "kernelspec": {
      "name": "python3",
      "display_name": "Python 3"
    },
    "language_info": {
      "name": "python"
    }
  },
  "cells": [
    {
      "cell_type": "markdown",
      "source": [
        "Problem Solving 2"
      ],
      "metadata": {
        "id": "c7j1hXPBfc58"
      }
    },
    {
      "cell_type": "markdown",
      "source": [
        "\n",
        "1.Greeting\n",
        "Define a function greeting that accepts an optional string argument called name. greeting should return a personalized string if the name is present.\n",
        "Example:\n",
        "greeting(\"Tala'); // Hello Tala!\n",
        "greeting(); // Hello!\n"
      ],
      "metadata": {
        "id": "tIn_uzdbfgad"
      }
    },
    {
      "cell_type": "code",
      "source": [
        "name=input(\"Enter your name\")\n",
        "def Greeting():\n",
        "  print(f\"Hello {name} !!\")\n",
        "Greeting()"
      ],
      "metadata": {
        "colab": {
          "base_uri": "https://localhost:8080/"
        },
        "id": "xLw2MknFgNj4",
        "outputId": "a2680747-4bea-4a93-c5fc-fa4427dcb7bc"
      },
      "execution_count": null,
      "outputs": [
        {
          "output_type": "stream",
          "name": "stdout",
          "text": [
            "Enter your name Duaa\n",
            "Hello  Duaa !!\n"
          ]
        }
      ]
    },
    {
      "cell_type": "markdown",
      "source": [
        "2.Write a function maxOfThree that accepts three number arguments. max0 Three should return largest number of the three.\n",
        "\n",
        "Example:\n",
        "\n",
        "maxOfThree(5, 4, 10); // 10\n",
        "\n",
        "max0fThree(7, 7, 4); //7"
      ],
      "metadata": {
        "id": "zth6Pieog-R6"
      }
    },
    {
      "cell_type": "code",
      "source": [
        "ls=[]\n",
        "def maxOfThree(a=0,b=0,c=0):\n",
        "   ls.append(a)\n",
        "   ls.append(b)\n",
        "   ls.append(c)\n",
        "   print(max(ls))\n",
        "maxOfThree(4,7,99)"
      ],
      "metadata": {
        "colab": {
          "base_uri": "https://localhost:8080/"
        },
        "id": "j8llpBOzhyXK",
        "outputId": "d446ae24-155c-4aac-af57-601d323f50cf"
      },
      "execution_count": null,
      "outputs": [
        {
          "output_type": "stream",
          "name": "stdout",
          "text": [
            "99\n"
          ]
        }
      ]
    },
    {
      "cell_type": "markdown",
      "source": [
        "3.Last Character ***\n",
        "\n",
        "Define a function lastCharacter that accepts two strings as arguments. lastCharacter should return true if both strings end with the same character. Otherwise, lastCharacter should return false.\n",
        "\n",
        "Example:\n",
        "\n",
        "LastCharacter('apples', 'pumpkins'); // true\n",
        "\n",
        "lastCharacter('marker', 'pen'); // => false\n"
      ],
      "metadata": {
        "id": "PHlxWAlRipK1"
      }
    },
    {
      "cell_type": "code",
      "source": [
        "first_string=input(\"Enter first string\")\n",
        "second_string=input(\"Enter second string\")\n",
        "\n",
        "def astCharacter():\n",
        "      if first_string[-1] == second_string[-1]:\n",
        "        print(\"True\")\n",
        "      else:\n",
        "        print(\"False\")\n",
        "astCharacter()"
      ],
      "metadata": {
        "id": "3cxbOhcgjLxz"
      },
      "execution_count": null,
      "outputs": []
    },
    {
      "cell_type": "markdown",
      "source": [
        "4.Tax Calculator\n",
        "\n",
        "Define a function taxCalculator that accepts the price of an item and a country code.\n",
        "taxCalculator should return the after-tax cost of the item, assuming JOR's tax is 4% and UAE's sales tax is 6.625%.\n",
        "\n",
        "Example:\n",
        "\n",
        " taxCalculator (100, JOR's); // 104\n",
        "\n",
        " taxCalculator (100, 'UAE'); // 106.625"
      ],
      "metadata": {
        "id": "-YqtoyBVkcJD"
      }
    },
    {
      "cell_type": "code",
      "source": [
        "price=float(input(\"Enter  price\"))\n",
        "country_code=input(\"Enter country_code \")\n",
        "def taxCalculator(price,country_code):\n",
        "  if country_code ==\"JOR's\":\n",
        "    new_price= price+(price* 4/100)\n",
        "    print(new_price)\n",
        "  elif country_code ==\"UAE's\":\n",
        "    new_price= price+(price* 6.625/100)\n",
        "    print(new_price)\n",
        "taxCalculator(price,country_code)"
      ],
      "metadata": {
        "id": "rHd19t_IlLAm"
      },
      "execution_count": null,
      "outputs": []
    },
    {
      "cell_type": "markdown",
      "source": [
        "5.Only Odds\n",
        "\n",
        "Define a function, onlyodds, that accepts a number as an argument.\n",
        "onlyOdds should return the sum of all the odd numbers between the given number and 1.\n",
        "If onlyoses receives an argument less than 1, it should return 8.\n",
        "\n",
        "Example:\n",
        "\n",
        "onlyOdds(6); //9(5+3+1)"
      ],
      "metadata": {
        "id": "ikbJqy22sAIJ"
      }
    },
    {
      "cell_type": "code",
      "source": [
        "sum_odds=0\n",
        "def onlyodds(number):\n",
        "  sum_odds=0\n",
        "  for i in range(1,6):\n",
        "    if i % 2 !=0:\n",
        "      sum_odds+=i\n",
        "  print(sum_odds)\n",
        "onlyodds(6)\n"
      ],
      "metadata": {
        "id": "abOrbdqJscIR"
      },
      "execution_count": null,
      "outputs": []
    },
    {
      "cell_type": "markdown",
      "source": [
        "6.Even Couple\n",
        "\n",
        "Define a function, evenCouple, that accepts an array of numbers as an argument.\n",
        "evenCouple should return a new array with the first two even numbers from the original array:\n",
        "evenCouple([1, 2, 3, 4, 5, 6]); // 2, 4  If fewer than two even numbers exist in the original array.return an empty array or an array with the only even number.\n",
        "\n",
        "Example:\n",
        "\n",
        "evenCouple([13, 15, 20]); // (20)\n",
        "\n",
        " evenCouple([1, 3, 5, 7]); // []"
      ],
      "metadata": {
        "id": "jdXUdTqztoZC"
      }
    },
    {
      "cell_type": "code",
      "source": [
        "def evenCouple(numbers):\n",
        "  even_ls=[]\n",
        "  even_count=0\n",
        "  for i in numbers:\n",
        "    if i%2==0:\n",
        "      even_ls.append(i)\n",
        "      even_count+=1\n",
        "      if even_count==2:\n",
        "        break\n",
        "  print(even_ls)\n",
        "evenCouple([1,3,5,7])\n"
      ],
      "metadata": {
        "id": "hmN5Wa2aufld"
      },
      "execution_count": null,
      "outputs": []
    },
    {
      "cell_type": "markdown",
      "source": [
        "7.My Slice\n",
        "\n",
        "Write a function myšlice that accepts up to three arguments:\n",
        "\n",
        "originalString (string)\n",
        "\n",
        "startIdx (number, optional)\n",
        "\n",
        "endIdx (number, optional)\n",
        "\n",
        "mySlice should return a string. The returned string should be a copy of the original string If the user defines a startIdx, the returned string should start at that index:\n",
        "\n",
        "Example:\n",
        "\n",
        "mySlicel(slice and dice', 2) // ice and dice\n",
        "\n",
        "If the user defined an endIdx, the returned string should end at\n",
        "the last index before the endIdx:\n",
        "\n",
        "mySlicel('slice and dice', 2, 5) //ice\n",
        "\n",
        "If the user doesn't define either the startIdx or the endIdx,\n",
        "return the entire originalString:\n",
        "\n",
        "mySlicel('slice and dice') // slice and dice\n",
        "\n",
        "You can assume the startidx will always be less than or equal to the endIdx."
      ],
      "metadata": {
        "id": "7SJXXrwGzqg0"
      }
    },
    {
      "cell_type": "code",
      "source": [
        "def myslice(originalString=\" \",startIdx=None,endIdx=None):\n",
        "  if startIdx is None:\n",
        "    startIdx=0\n",
        "  if  endIdx is None:\n",
        "     endIdx=len(originalString)\n",
        "  print( originalString[startIdx:endIdx ])\n",
        "myslice(\"slice and dice\", 2)\n",
        "myslice('slice and dice', 2, 5)\n",
        "myslice('slice and dice')\n",
        "\n"
      ],
      "metadata": {
        "id": "s1alVipc01kR"
      },
      "execution_count": null,
      "outputs": []
    },
    {
      "cell_type": "markdown",
      "source": [
        "8.Define a function, myIndexOf, that accepts two arguments:\n",
        "\n",
        "source (string)\n",
        "\n",
        "searchValue (string)\n",
        "\n",
        "If the source contains the searchValue, return the index at which the searchValue starts.\n",
        "If the searchValue appears more than once in the source, return the index from the first occurance of the searchValue.\n",
        "If the searchValue doesn't exist in the source, return -1.\n",
        "Do not use the built-in indexOf string method in your answer. Feel free to use it in all future workshop problems though!\n",
        "Example:\n",
        "\n",
        "myIndexOf('hello', 'h'); 0\n",
        "\n",
        "myIndexOf('hello', 'e'); 1\n",
        "\n",
        "myIndexOf('hello', '1'); 2\n",
        "\n",
        "myIndexOf('hello', '1'); 2\n",
        "\n",
        "myIndexOf('hello', 'o'); 4\n",
        "\n",
        "myIndexOf('twice twice', 'ice'); 2\n",
        "\n",
        "myIndexOf(\"happy string', 'sad'): -1"
      ],
      "metadata": {
        "id": "Kt6dayiZ7v2d"
      }
    },
    {
      "cell_type": "code",
      "source": [
        "def myIndexOf(source:str,searchValue:str):\n",
        "  print(source.find(searchValue))\n",
        "myIndexOf('hello', 'h')\n",
        "\n",
        "myIndexOf('hello', 'e')\n",
        "\n",
        "myIndexOf('hello', 'l')\n",
        "\n",
        "myIndexOf('hello', 'l')\n",
        "\n",
        "myIndexOf('hello', 'o')\n",
        "\n",
        "myIndexOf('twice twice', 'ice')\n",
        "\n",
        "myIndexOf (\"happy string\", 'sad')\n"
      ],
      "metadata": {
        "id": "36YUhmgi8S0k"
      },
      "execution_count": null,
      "outputs": []
    },
    {
      "cell_type": "markdown",
      "source": [
        "9. Compare Objects\n",
        "\n",
        "Define a function, compare@bjects, that accepts two objects as arguments.\n",
        "compare Objects should return true if both objects have exactly the same  key/value pairs. Otherwise, compareObjects should return false.\n",
        "Assume the objects are not nested.\n",
        "\n",
        "compareObjects({ name: \"Yara\" }, { name: \"Yara\" }) // true\n",
        "\n",
        "compareObjectsi({ name: \"Omar\" }, { name: \"Omar\", age: 12 }) // -> false\n"
      ],
      "metadata": {
        "id": "nSybnv3994oK"
      }
    },
    {
      "cell_type": "code",
      "source": [
        "def compareObjects(dict1,dict2):\n",
        "  if len(dict1) != len(dict2):\n",
        "     return False\n",
        "  for key in dict1:\n",
        "      if  dict1[key] not in dict2[key] or  dict1[key]!= dict2[key]  :\n",
        "                return False\n",
        "  return True\n",
        "compareObjects({\"name\" : \"Yara\" }, { \"name\": \"Yara\" })\n",
        "compareObjects({\"name\": \"Omar\"}, {\"name\": \"Omar\", \"age\": 12 })"
      ],
      "metadata": {
        "id": "nZ9nl5qz-lb4"
      },
      "execution_count": null,
      "outputs": []
    },
    {
      "cell_type": "markdown",
      "source": [
        "10.Attendance Check\n",
        "\n",
        "Define a function, attendanceCheck, that accecis a day of the week as a string.\n",
        "Using the globally-defined classRoom array, attendanceCheck should return\n",
        "a new array with only the names of the students present on the inputted day of the week.\n",
        "\n",
        "classCheck('Monday'); // ['Rania', 'Sara']\n",
        "\n",
        "classCheck(\"Wednesday\"); //> ['Rania\", \"Lina']\n",
        "\n"
      ],
      "metadata": {
        "id": "a0cpdVToEZ4Q"
      }
    },
    {
      "cell_type": "code",
      "source": [
        "ClassRoom={\"Monday\":[\"Rania\",\"Sara\"],\n",
        "\"Tuesday\":[\"Sara\",\"Lina\"],\n",
        "\"Wednesday\":[\"Rania\",\"Lina\"],\n",
        "\"Thuresday\":[\"Sara\",\"Lina\",\"Rania\"],\n",
        "\"Saturday\":[\"Lina\"]\n",
        "}\n",
        "def attendanceCheck(Day):\n",
        "  if Day in ClassRoom:\n",
        "    return ClassRoom[Day]\n",
        "  else:\n",
        "    return []\n",
        "\n",
        "attendanceCheck(\"Monday\")\n",
        "attendanceCheck(\"Wednesday\")\n"
      ],
      "metadata": {
        "id": "lF-eXBzgFPOW"
      },
      "execution_count": null,
      "outputs": []
    }
  ]
}